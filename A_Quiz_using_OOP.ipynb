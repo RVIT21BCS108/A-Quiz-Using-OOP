{
  "cells": [
    {
      "cell_type": "markdown",
      "metadata": {
        "id": "view-in-github",
        "colab_type": "text"
      },
      "source": [
        "<a href=\"https://colab.research.google.com/github/RVIT21BCS108/A-Quiz-Using-OOP/blob/main/A_Quiz_using_OOP.ipynb\" target=\"_parent\"><img src=\"https://colab.research.google.com/assets/colab-badge.svg\" alt=\"Open In Colab\"/></a>"
      ]
    },
    {
      "cell_type": "code",
      "execution_count": null,
      "metadata": {
        "id": "90DMjM4xi1NE"
      },
      "outputs": [],
      "source": [
        "# question_model\n",
        "class Question:\n",
        "    def __init__(self, text, answer):\n",
        "        self.text = text\n",
        "        self.answer = answer\n"
      ]
    },
    {
      "cell_type": "code",
      "execution_count": null,
      "metadata": {
        "id": "BCrcrhFljBaq"
      },
      "outputs": [],
      "source": [
        "# question_data-a list where each etry is a dictionary for the questions and answers\n",
        "question_data = [\n",
        "    {\n",
        "        \"category\": \"Science: Computers\",\n",
        "        \"type\": \"boolean\",\n",
        "        \"difficulty\": \"medium\",\n",
        "        \"question\": \"The HTML5 standard was published in 2014.\",\n",
        "        \"correct_answer\": \"True\",\n",
        "        \"incorrect_answers\": [\n",
        "            \"False\"\n",
        "        ]\n",
        "    },\n",
        "    {\n",
        "        \"category\": \"Science: Computers\",\n",
        "        \"type\": \"boolean\",\n",
        "        \"difficulty\": \"medium\",\n",
        "        \"question\": \"The first computer bug was formed by faulty wires.\",\n",
        "        \"correct_answer\": \"False\",\n",
        "        \"incorrect_answers\": [\n",
        "            \"True\"\n",
        "        ]\n",
        "    },\n",
        "    {\n",
        "        \"category\": \"Science: Computers\",\n",
        "        \"type\": \"boolean\",\n",
        "        \"difficulty\": \"medium\",\n",
        "        \"question\": \"FLAC stands for 'Free Lossless Audio Condenser'.\",\n",
        "        \"correct_answer\": \"False\",\n",
        "        \"incorrect_answers\": [\n",
        "            \"True\"\n",
        "        ]\n",
        "    },\n",
        "    {\n",
        "        \"category\": \"Science: Computers\",\n",
        "        \"type\": \"boolean\",\n",
        "        \"difficulty\": \"medium\",\n",
        "        \"question\": \"All program codes have to be compiled into an executable file in order to be run. This file can then be executed on any machine.\",\n",
        "        \"correct_answer\": \"False\",\n",
        "        \"incorrect_answers\": [\n",
        "            \"True\"\n",
        "        ]\n",
        "    },\n",
        "    {\n",
        "        \"category\": \"Science: Computers\",\n",
        "        \"type\": \"boolean\",\n",
        "        \"difficulty\": \"easy\",\n",
        "        \"question\": \"Linus Torvalds created Linux and Git.\",\n",
        "        \"correct_answer\": \"True\",\n",
        "        \"incorrect_answers\": [\n",
        "            \"False\"\n",
        "        ]\n",
        "    },\n",
        "    {\n",
        "        \"category\": \"Science: Computers\",\n",
        "        \"type\": \"boolean\",\n",
        "        \"difficulty\": \"easy\",\n",
        "        \"question\": \"The programming language 'Python' is based off a modified version of 'JavaScript'\",\n",
        "        \"correct_answer\": \"False\",\n",
        "        \"incorrect_answers\": [\n",
        "            \"True\"\n",
        "        ]\n",
        "    },\n",
        "    {\n",
        "        \"category\": \"Science: Computers\",\n",
        "        \"type\": \"boolean\",\n",
        "        \"difficulty\": \"medium\",\n",
        "        \"question\": \"AMD created the first consumer 64-bit processor.\",\n",
        "        \"correct_answer\": \"True\",\n",
        "        \"incorrect_answers\": [\n",
        "            \"False\"\n",
        "        ]\n",
        "    },\n",
        "    {\n",
        "        \"category\": \"Science: Computers\",\n",
        "        \"type\": \"boolean\",\n",
        "        \"difficulty\": \"easy\",\n",
        "        \"question\": \"'HTML' stands for Hypertext Markup Language.\",\n",
        "        \"correct_answer\": \"True\",\n",
        "        \"incorrect_answers\": [\n",
        "            \"False\"\n",
        "        ]\n",
        "    },\n",
        "    {\n",
        "        \"category\": \"Science: Computers\",\n",
        "        \"type\": \"boolean\",\n",
        "        \"difficulty\": \"easy\",\n",
        "        \"question\": \"In most programming languages, the operator ++ is equivalent to the statement '+= 1'.\",\n",
        "        \"correct_answer\": \"True\",\n",
        "        \"incorrect_answers\": [\n",
        "            \"False\"\n",
        "        ]\n",
        "    },\n",
        "    {\n",
        "        \"category\": \"Science: Computers\",\n",
        "        \"type\": \"boolean\",\n",
        "        \"difficulty\": \"hard\",\n",
        "        \"question\": \"The IBM PC used an Intel 8008 microprocessor clocked at 4.77 MHz and 8 kilobytes of memory.\",\n",
        "        \"correct_answer\": \"False\",\n",
        "        \"incorrect_answers\": [\n",
        "            \"True\"\n",
        "        ]\n",
        "    }\n",
        "]"
      ]
    },
    {
      "cell_type": "code",
      "execution_count": null,
      "metadata": {
        "id": "jjeluiC5jN3x"
      },
      "outputs": [],
      "source": [
        "# quiz_brain- asks question, calculates score and checks to see if more questions can be asked\n",
        "class QuizBrain:\n",
        "    def __init__(self, q_list):\n",
        "        self.question_number = 0\n",
        "        self.score = 0\n",
        "        self.question_list = q_list\n",
        "\n",
        "    def still_has_questions(self):\n",
        "        return self.question_number < len(self.question_list)\n",
        "\n",
        "    def next_question(self):\n",
        "        current_question = self.question_list[self.question_number]\n",
        "        self.question_number += 1\n",
        "        user_answer = input(f\"Q.{self.question_number}: {current_question.text} (True/False): \")\n",
        "        self.check_answer(user_answer, current_question.answer)\n",
        "\n",
        "    def check_answer(self, user_answer, correct_answer):\n",
        "        if user_answer.lower() == correct_answer.lower():\n",
        "            self.score += 1\n",
        "            print(\"You got it right!\")\n",
        "        else:\n",
        "            print(\"That's wrong.\")\n",
        "        print(f\"The correct answer was: {correct_answer}.\")\n",
        "        print(f\"Your current score is: {self.score}/{self.question_number}\")\n",
        "        print(\"\\n\")\n"
      ]
    },
    {
      "cell_type": "code",
      "execution_count": null,
      "metadata": {
        "colab": {
          "background_save": true,
          "base_uri": "https://localhost:8080/"
        },
        "id": "iS8vy1QZj0gD",
        "outputId": "c19c285c-ba34-44d5-f7af-422fc01c7493"
      },
      "outputs": [
        {
          "name": "stdout",
          "output_type": "stream",
          "text": [
            "You got it right!\n",
            "The correct answer was: True.\n",
            "Your current score is: 1/1\n",
            "\n",
            "\n",
            "That's wrong.\n",
            "The correct answer was: False.\n",
            "Your current score is: 1/2\n",
            "\n",
            "\n"
          ]
        }
      ],
      "source": [
        "# main program\n",
        "def main():\n",
        "    question_bank = []\n",
        "    for question in question_data:\n",
        "        question_text = question[\"question\"]\n",
        "        question_answer = question[\"correct_answer\"]\n",
        "        new_question = Question(question_text, question_answer)\n",
        "        question_bank.append(new_question)\n",
        "\n",
        "    quiz = QuizBrain(question_bank)\n",
        "\n",
        "    while quiz.still_has_questions():\n",
        "        quiz.next_question()\n",
        "\n",
        "    print(\"You've completed the quiz\")\n",
        "    print(f\"Your final score was: {quiz.score}/{quiz.question_number}\")\n",
        "\n",
        "# Run the main function\n",
        "main()\n"
      ]
    }
  ],
  "metadata": {
    "colab": {
      "provenance": [],
      "authorship_tag": "ABX9TyPT9WPWJE3DhEPYDWLyNCtF",
      "include_colab_link": true
    },
    "kernelspec": {
      "display_name": "Python 3",
      "name": "python3"
    },
    "language_info": {
      "name": "python"
    }
  },
  "nbformat": 4,
  "nbformat_minor": 0
}